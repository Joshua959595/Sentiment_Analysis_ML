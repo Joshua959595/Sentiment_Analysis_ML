{
  "nbformat": 4,
  "nbformat_minor": 0,
  "metadata": {
    "colab": {
      "provenance": []
    },
    "kernelspec": {
      "name": "python3",
      "display_name": "Python 3"
    },
    "language_info": {
      "name": "python"
    }
  },
  "cells": [
    {
      "cell_type": "markdown",
      "source": [
        "**1. 드라이브 마운트**"
      ],
      "metadata": {
        "id": "f_QkJ3mBmkqC"
      }
    },
    {
      "cell_type": "code",
      "execution_count": 2,
      "metadata": {
        "colab": {
          "base_uri": "https://localhost:8080/"
        },
        "id": "LfAPbGHYlA-H",
        "outputId": "96e45c3a-7bb7-4400-d26e-958090f283ef"
      },
      "outputs": [
        {
          "output_type": "stream",
          "name": "stdout",
          "text": [
            "Drive already mounted at /content/drive; to attempt to forcibly remount, call drive.mount(\"/content/drive\", force_remount=True).\n"
          ]
        }
      ],
      "source": [
        "from google.colab import drive\n",
        "drive.mount('/content/drive')"
      ]
    },
    {
      "cell_type": "markdown",
      "source": [
        "**2. 데이터 불러오기**"
      ],
      "metadata": {
        "id": "vBVk5eNim1y6"
      }
    },
    {
      "cell_type": "code",
      "source": [
        "import pandas as pd\n",
        "import csv\n",
        "imdb = pd.read_csv('/content/drive/MyDrive/Data/IMDBDataset.csv', error_bad_lines=False, engine='python')\n",
        "imdb = imdb[:10000]"
      ],
      "metadata": {
        "id": "yA5pG05qlJhe"
      },
      "execution_count": null,
      "outputs": []
    },
    {
      "cell_type": "code",
      "source": [
        "imdb.head()\n",
        "imdb.info()\n",
        "imdb.isnull().any()\n",
        "imdb.count()\n",
        "imdb['sentiment'].value_counts()"
      ],
      "metadata": {
        "id": "5tZdYzPMrKNO"
      },
      "execution_count": null,
      "outputs": []
    },
    {
      "cell_type": "markdown",
      "source": [
        "**3. 데이터 전처리**"
      ],
      "metadata": {
        "id": "nNMGwWpAtBgg"
      }
    },
    {
      "cell_type": "code",
      "source": [
        "import nltk\n",
        "from nltk.corpus import stopwords\n",
        "from nltk.stem import WordNetLemmatizer\n",
        "nltk.download('all')\n",
        "nltk.download('popular')"
      ],
      "metadata": {
        "id": "U6YEPt3ttHOQ"
      },
      "execution_count": null,
      "outputs": []
    },
    {
      "cell_type": "code",
      "source": [
        "def preprocessing(text):\n",
        "    # 단어 토큰화\n",
        "    tokens = [word for sent in nltk.sent_tokenize(text) for word in nltk.word_tokenize(sent)] \n",
        "   \n",
        "    # 불용어 제거\n",
        "    stop = stopwords.words('english')\n",
        "    tokens = [token for token in tokens if token not in stop]\n",
        "    \n",
        "    # 3 단어 이내 단어 제거\n",
        "    tokens = [word for word in tokens if len(word) >= 3]\n",
        "       \n",
        "    # 소문자화\n",
        "    tokens = [word.lower() for word in tokens]\n",
        "    \n",
        "    # 표제어 추출\n",
        "    lmtzr = WordNetLemmatizer()\n",
        "    tokens = [lmtzr.lemmatize(word) for word in tokens]\n",
        "\n",
        "    preprocessed_text= ' '.join(tokens)\n",
        "    return preprocessed_text"
      ],
      "metadata": {
        "id": "-yyYC3JotHIV"
      },
      "execution_count": 6,
      "outputs": []
    },
    {
      "cell_type": "code",
      "source": [
        "imdb['review_pre'] = imdb['review'].apply(lambda x: preprocessing(x))"
      ],
      "metadata": {
        "id": "erKPeTyJtHCS"
      },
      "execution_count": 7,
      "outputs": []
    },
    {
      "cell_type": "code",
      "source": [
        "imdb.head()"
      ],
      "metadata": {
        "id": "dMWziTDTtG4i"
      },
      "execution_count": null,
      "outputs": []
    },
    {
      "cell_type": "markdown",
      "source": [
        "**4-1) train & test 데이터 분리**"
      ],
      "metadata": {
        "id": "vnGNJhgzvpqX"
      }
    },
    {
      "cell_type": "code",
      "source": [
        "import numpy as np"
      ],
      "metadata": {
        "id": "XA3jl4ZnvphF"
      },
      "execution_count": 9,
      "outputs": []
    },
    {
      "cell_type": "code",
      "source": [
        "trainset_size = int(round((len(imdb)*0.7)))\n",
        "trainset_size\n",
        "x_train = np.array([el for el in imdb.iloc[:trainset_size,2]])\n",
        "y_train = np.array([el for el in imdb.iloc[:trainset_size,0]])\n",
        "x_test = np.array([el for el in imdb.iloc[trainset_size:,2]])\n",
        "y_test = np.array([el for el in imdb.iloc[trainset_size:,0]])"
      ],
      "metadata": {
        "id": "p6UaTatSvpdt"
      },
      "execution_count": 10,
      "outputs": []
    },
    {
      "cell_type": "markdown",
      "source": [
        "**4-2) TF-IDF 벡터 생성**"
      ],
      "metadata": {
        "id": "-fT6Ng6hz7xs"
      }
    },
    {
      "cell_type": "code",
      "source": [
        "from sklearn.feature_extraction.text import TfidfVectorizer"
      ],
      "metadata": {
        "id": "FGcvTz6cvpaA"
      },
      "execution_count": 11,
      "outputs": []
    },
    {
      "cell_type": "code",
      "source": [
        "vectorizer = TfidfVectorizer(min_df=2, ngram_range=(1, 2), \\\n",
        "\t\tstop_words='english', strip_accents='unicode', norm='l2')\n",
        "X_train = vectorizer.fit_transform(x_train)\n",
        "X_test = vectorizer.transform(x_test)"
      ],
      "metadata": {
        "id": "M0D1ukgDvpUz"
      },
      "execution_count": 12,
      "outputs": []
    },
    {
      "cell_type": "code",
      "source": [
        "X_train"
      ],
      "metadata": {
        "colab": {
          "base_uri": "https://localhost:8080/"
        },
        "id": "hLhdvu2AvpP1",
        "outputId": "61ea30fe-c624-478c-8e82-bca43f6bb7c4"
      },
      "execution_count": 13,
      "outputs": [
        {
          "output_type": "execute_result",
          "data": {
            "text/plain": [
              "<7000x84869 sparse matrix of type '<class 'numpy.float64'>'\n",
              "\twith 805610 stored elements in Compressed Sparse Row format>"
            ]
          },
          "metadata": {},
          "execution_count": 13
        }
      ]
    },
    {
      "cell_type": "markdown",
      "source": [
        "**5-1) 분류기 생성I (NaiveBayesian)**"
      ],
      "metadata": {
        "id": "pWuJpq5X0P7Q"
      }
    },
    {
      "cell_type": "code",
      "source": [
        "from sklearn.naive_bayes import MultinomialNB\n",
        "from sklearn.metrics import confusion_matrix\n",
        "from sklearn.metrics import classification_report"
      ],
      "metadata": {
        "id": "xcPWwNRd0RAb"
      },
      "execution_count": 14,
      "outputs": []
    },
    {
      "cell_type": "code",
      "source": [
        "clf_NB = MultinomialNB().fit(X_train, y_train)\n",
        "y_predicted_NB = clf_NB.predict(X_test)"
      ],
      "metadata": {
        "id": "rEgx29l90Q7q"
      },
      "execution_count": null,
      "outputs": []
    },
    {
      "cell_type": "code",
      "source": [
        "print (' \\n confusion_matrix (Naive Bayesian) \\n ')\n",
        "cm = confusion_matrix(y_test, y_predicted_NB)\n",
        "print (cm)\n",
        "\n",
        "print ('\\n Classification Report:')\n",
        "print (classification_report(y_test, y_predicted_NB))"
      ],
      "metadata": {
        "id": "hwZhnCgs16Xv"
      },
      "execution_count": null,
      "outputs": []
    },
    {
      "cell_type": "markdown",
      "source": [
        "**5-2) 분류기 생성II (DecisionTree)**"
      ],
      "metadata": {
        "id": "QnpKV_6F0ZPF"
      }
    },
    {
      "cell_type": "code",
      "source": [
        "from sklearn import tree"
      ],
      "metadata": {
        "id": "UO073TzA0Q1-"
      },
      "execution_count": null,
      "outputs": []
    },
    {
      "cell_type": "code",
      "source": [
        "clf_DT = tree.DecisionTreeClassifier().fit(X_train, y_train)\n",
        "y_predicted_DT = clf_DT.predict(X_test)"
      ],
      "metadata": {
        "id": "N61TEttU0QWY"
      },
      "execution_count": null,
      "outputs": []
    },
    {
      "cell_type": "code",
      "source": [
        "print (' \\n confusion_matrix (Decision Tree) \\n ')\n",
        "cm = confusion_matrix(y_test, y_predicted_DT)\n",
        "print (cm)\n",
        "\n",
        "print ('\\n Classification Report:')\n",
        "print (classification_report(y_test, y_predicted_DT))"
      ],
      "metadata": {
        "id": "dqJGrLwE2LB0"
      },
      "execution_count": null,
      "outputs": []
    },
    {
      "cell_type": "markdown",
      "source": [
        "**5-3) 분류기 생성III (SGD)**"
      ],
      "metadata": {
        "id": "vEP5yoqN0nnj"
      }
    },
    {
      "cell_type": "code",
      "source": [
        "from sklearn.linear_model import SGDClassifier"
      ],
      "metadata": {
        "id": "7u7aphTDvpJ9"
      },
      "execution_count": null,
      "outputs": []
    },
    {
      "cell_type": "code",
      "source": [
        "clf_SGD = SGDClassifier(alpha=.0001).fit(X_train, y_train)\n",
        "y_predicted_SGD = clf_SGD.predict(X_test)"
      ],
      "metadata": {
        "id": "ZXo9ePGdlJpC"
      },
      "execution_count": null,
      "outputs": []
    },
    {
      "cell_type": "code",
      "source": [
        "print (' \\n confusion_matrix (SGD) \\n ')\n",
        "cm = confusion_matrix(y_test, y_predicted_SGD)\n",
        "print (cm)\n",
        "print ('\\n Classification Report:')\n",
        "print (classification_report(y_test, y_predicted_SGD))"
      ],
      "metadata": {
        "id": "S9kO10gw2hXA"
      },
      "execution_count": null,
      "outputs": []
    },
    {
      "cell_type": "markdown",
      "source": [
        "**5-4) 분류기 생성IV (SVM)**"
      ],
      "metadata": {
        "id": "uTlSbHCG0vqr"
      }
    },
    {
      "cell_type": "code",
      "source": [
        "from sklearn.svm import LinearSVC"
      ],
      "metadata": {
        "id": "JYXTGx2w0yGj"
      },
      "execution_count": null,
      "outputs": []
    },
    {
      "cell_type": "code",
      "source": [
        "clf_SVM = LinearSVC().fit(X_train, y_train)\n",
        "y_predicted_SVM = clf_SVM.predict(X_test)"
      ],
      "metadata": {
        "id": "tpCVnyNC0zcW"
      },
      "execution_count": null,
      "outputs": []
    },
    {
      "cell_type": "code",
      "source": [
        "print (' \\n confusion_matrix (SVM)\\n ')\n",
        "cm = confusion_matrix(y_test, y_predicted_SVM)\n",
        "print (cm)\n",
        "print ('\\n Classification Report:')\n",
        "print (classification_report(y_test, y_predicted_SVM))"
      ],
      "metadata": {
        "id": "0KASBcUc2qiD"
      },
      "execution_count": null,
      "outputs": []
    },
    {
      "cell_type": "markdown",
      "source": [
        "**5-5) 분류기 생성V (RandomForest)**"
      ],
      "metadata": {
        "id": "4g1DJVfO0yoP"
      }
    },
    {
      "cell_type": "code",
      "source": [
        "from sklearn.ensemble import RandomForestClassifier"
      ],
      "metadata": {
        "id": "4JGCc46f0yLr"
      },
      "execution_count": null,
      "outputs": []
    },
    {
      "cell_type": "code",
      "source": [
        "clf_RFA = RandomForestClassifier(n_estimators=10)\n",
        "clf_RFA.fit(X_train, y_train)\n",
        "y_predicted_RFA = clf_RFA.predict(X_test)"
      ],
      "metadata": {
        "id": "DPhdWw2U206d"
      },
      "execution_count": null,
      "outputs": []
    },
    {
      "cell_type": "code",
      "source": [
        "print (' \\n confusion_matrix (RandomForest) \\n ')\n",
        "cm = confusion_matrix(y_test, y_predicted_RFA)\n",
        "print (cm)\n",
        "print ('\\n Classification Report:')\n",
        "print (classification_report(y_test, y_predicted_RFA))"
      ],
      "metadata": {
        "id": "mlhorN7E03NB"
      },
      "execution_count": null,
      "outputs": []
    }
  ]
}